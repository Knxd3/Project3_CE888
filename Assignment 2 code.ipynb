{
 "cells": [
  {
   "cell_type": "markdown",
   "metadata": {},
   "source": [
    "#### Collate CSV Files. Pickle.\n",
    "Data loaded in the next code block using Pickle"
   ]
  },
  {
   "cell_type": "code",
   "execution_count": 8,
   "metadata": {},
   "outputs": [],
   "source": [
    "import pandas as pd\n",
    "\n",
    "path = 'C:/Users/AD/Documents/Essex/CE888/Final Project/StopSearch only/' #data.police.uk stop-and-search 2018-2020 all\n",
    "\n",
    "years = ['2018','2019','2020']\n",
    "months = [str(x) for x in range(1,13)]\n",
    "\n",
    "periods = []\n",
    "\n",
    "for y in years:\n",
    "    for m in months:\n",
    "        if int(m) < 10:\n",
    "            temp = y + '-0' + m\n",
    "            periods.append(temp)\n",
    "        else:\n",
    "            temp = y + '-' + m\n",
    "            periods.append(temp)\n",
    "            \n",
    "counties = ['avon-and-somerset','bedfordshire','btp','cambridgeshire','cheshire','city-of-london','cleveland','cumbria',\n",
    "         'derbyshire','devon-and-cornwall','dorset','durham','dyfed-powys','essex','gloucestershire','greater-manchester',\n",
    "         'gwent','hampshire','hertfordshire','humberside','kent','lancashire','leicestershire','lincolnshire','merseyside',\n",
    "         'metropolitan','norfolk','northamptonshire','northumbria','north-wales','north-yorkshire','nottinghamshire',\n",
    "         'south-wales','south-yorkshire','staffordshire','suffolk','surrey','sussex','thames-valley','warwickshire',\n",
    "         'west-mercia','west-midlands','west-yorkshire','wiltshire']\n",
    "# print(path1 + periods[0] +'/' + periods[0] + '-' + counties[1] + '-stop-and-search.csv')\n",
    "\n",
    "k = 0\n",
    "missing = []\n",
    "df_original = pd.DataFrame()\n",
    "for p in periods:\n",
    "    for c in counties:\n",
    "        filename = path + p +'/' + p + '-' + c + '-stop-and-search.csv'\n",
    "        try:\n",
    "            temp = pd.read_csv(filename)\n",
    "            df_original = df_original.append(temp, ignore_index = True).copy()\n",
    "        except FileNotFoundError: #missing data for some periods/counties. Count how many and see which and when\n",
    "            k = k + 1\n",
    "            missing.append(p)\n",
    "            missing.append(c)\n",
    "            \n",
    "import pickle\n",
    "\n",
    "out_ = open('stopsearch','wb')\n",
    "pickle.dump(df_original, out_)\n",
    "out_.close()"
   ]
  },
  {
   "cell_type": "markdown",
   "metadata": {},
   "source": [
    "#### Load stopandsearch1 from GitHub with pickle for running the data"
   ]
  },
  {
   "cell_type": "code",
   "execution_count": 1,
   "metadata": {},
   "outputs": [],
   "source": [
    "import pickle\n",
    "import pandas as pd\n",
    "\n",
    "in_ = open('stopsearch', 'rb')\n",
    "df_original = pickle.load(in_)\n",
    "in_.close()"
   ]
  },
  {
   "cell_type": "markdown",
   "metadata": {},
   "source": [
    "#### Make a Copy of the Original Data"
   ]
  },
  {
   "cell_type": "code",
   "execution_count": 2,
   "metadata": {},
   "outputs": [
    {
     "name": "stdout",
     "output_type": "stream",
     "text": [
      "(1547490, 15)\n",
      "\n",
      " Rows removed out of 1460396: 0\n"
     ]
    }
   ],
   "source": [
    "import numpy as np\n",
    "import matplotlib.pyplot as plt\n",
    "import aif360\n",
    "\n",
    "df = df_original.copy()\n",
    "print(df.shape)\n",
    "print('\\n Rows removed out of 1460396:', df_original.shape[0] - df.shape[0])"
   ]
  },
  {
   "cell_type": "markdown",
   "metadata": {},
   "source": [
    "#### Summary Statistics"
   ]
  },
  {
   "cell_type": "code",
   "execution_count": 4,
   "metadata": {},
   "outputs": [
    {
     "data": {
      "text/html": [
       "<div>\n",
       "<style scoped>\n",
       "    .dataframe tbody tr th:only-of-type {\n",
       "        vertical-align: middle;\n",
       "    }\n",
       "\n",
       "    .dataframe tbody tr th {\n",
       "        vertical-align: top;\n",
       "    }\n",
       "\n",
       "    .dataframe thead th {\n",
       "        text-align: right;\n",
       "    }\n",
       "</style>\n",
       "<table border=\"1\" class=\"dataframe\">\n",
       "  <thead>\n",
       "    <tr style=\"text-align: right;\">\n",
       "      <th></th>\n",
       "      <th>Type</th>\n",
       "      <th>Date</th>\n",
       "      <th>Part of a policing operation</th>\n",
       "      <th>Policing operation</th>\n",
       "      <th>Latitude</th>\n",
       "      <th>Longitude</th>\n",
       "      <th>Gender</th>\n",
       "      <th>Age range</th>\n",
       "      <th>Self-defined ethnicity</th>\n",
       "      <th>Officer-defined ethnicity</th>\n",
       "      <th>Legislation</th>\n",
       "      <th>Object of search</th>\n",
       "      <th>Outcome</th>\n",
       "      <th>Outcome linked to object of search</th>\n",
       "      <th>Removal of more than just outer clothing</th>\n",
       "    </tr>\n",
       "  </thead>\n",
       "  <tbody>\n",
       "    <tr>\n",
       "      <th>6</th>\n",
       "      <td>Person search</td>\n",
       "      <td>2018-01-02T11:04:18+00:00</td>\n",
       "      <td>NaN</td>\n",
       "      <td>NaN</td>\n",
       "      <td>51.348244</td>\n",
       "      <td>-2.977460</td>\n",
       "      <td>Male</td>\n",
       "      <td>10-17</td>\n",
       "      <td>Asian/Asian British - Pakistani</td>\n",
       "      <td>Asian</td>\n",
       "      <td>Misuse of Drugs Act 1971 (section 23)</td>\n",
       "      <td>Controlled drugs</td>\n",
       "      <td>Nothing found - no further action</td>\n",
       "      <td>NaN</td>\n",
       "      <td>True</td>\n",
       "    </tr>\n",
       "    <tr>\n",
       "      <th>9</th>\n",
       "      <td>Person search</td>\n",
       "      <td>2018-01-02T16:18:39+00:00</td>\n",
       "      <td>NaN</td>\n",
       "      <td>NaN</td>\n",
       "      <td>51.348244</td>\n",
       "      <td>-2.977460</td>\n",
       "      <td>Male</td>\n",
       "      <td>over 34</td>\n",
       "      <td>Mixed/Multiple ethnic groups - White and Black...</td>\n",
       "      <td>Other</td>\n",
       "      <td>Misuse of Drugs Act 1971 (section 23)</td>\n",
       "      <td>Controlled drugs</td>\n",
       "      <td>Local resolution</td>\n",
       "      <td>True</td>\n",
       "      <td>True</td>\n",
       "    </tr>\n",
       "    <tr>\n",
       "      <th>10</th>\n",
       "      <td>Person search</td>\n",
       "      <td>2018-01-02T19:02:13+00:00</td>\n",
       "      <td>NaN</td>\n",
       "      <td>NaN</td>\n",
       "      <td>51.373173</td>\n",
       "      <td>-2.400887</td>\n",
       "      <td>Male</td>\n",
       "      <td>10-17</td>\n",
       "      <td>White - English/Welsh/Scottish/Northern Irish/...</td>\n",
       "      <td>White</td>\n",
       "      <td>Police and Criminal Evidence Act 1984 (section 1)</td>\n",
       "      <td>Offensive weapons</td>\n",
       "      <td>Nothing found - no further action</td>\n",
       "      <td>NaN</td>\n",
       "      <td>False</td>\n",
       "    </tr>\n",
       "    <tr>\n",
       "      <th>11</th>\n",
       "      <td>Person search</td>\n",
       "      <td>2018-01-02T19:02:13+00:00</td>\n",
       "      <td>NaN</td>\n",
       "      <td>NaN</td>\n",
       "      <td>51.373173</td>\n",
       "      <td>-2.400887</td>\n",
       "      <td>Male</td>\n",
       "      <td>10-17</td>\n",
       "      <td>Black/African/Caribbean/Black British - Caribbean</td>\n",
       "      <td>Black</td>\n",
       "      <td>Police and Criminal Evidence Act 1984 (section 1)</td>\n",
       "      <td>Offensive weapons</td>\n",
       "      <td>Nothing found - no further action</td>\n",
       "      <td>NaN</td>\n",
       "      <td>False</td>\n",
       "    </tr>\n",
       "    <tr>\n",
       "      <th>12</th>\n",
       "      <td>Person search</td>\n",
       "      <td>2018-01-02T19:53:18+00:00</td>\n",
       "      <td>NaN</td>\n",
       "      <td>NaN</td>\n",
       "      <td>51.453281</td>\n",
       "      <td>-2.596796</td>\n",
       "      <td>Male</td>\n",
       "      <td>over 34</td>\n",
       "      <td>White - English/Welsh/Scottish/Northern Irish/...</td>\n",
       "      <td>White</td>\n",
       "      <td>Police and Criminal Evidence Act 1984 (section 1)</td>\n",
       "      <td>Stolen goods</td>\n",
       "      <td>Local resolution</td>\n",
       "      <td>True</td>\n",
       "      <td>False</td>\n",
       "    </tr>\n",
       "  </tbody>\n",
       "</table>\n",
       "</div>"
      ],
      "text/plain": [
       "             Type                       Date Part of a policing operation  \\\n",
       "6   Person search  2018-01-02T11:04:18+00:00                          NaN   \n",
       "9   Person search  2018-01-02T16:18:39+00:00                          NaN   \n",
       "10  Person search  2018-01-02T19:02:13+00:00                          NaN   \n",
       "11  Person search  2018-01-02T19:02:13+00:00                          NaN   \n",
       "12  Person search  2018-01-02T19:53:18+00:00                          NaN   \n",
       "\n",
       "    Policing operation   Latitude  Longitude Gender Age range  \\\n",
       "6                  NaN  51.348244  -2.977460   Male     10-17   \n",
       "9                  NaN  51.348244  -2.977460   Male   over 34   \n",
       "10                 NaN  51.373173  -2.400887   Male     10-17   \n",
       "11                 NaN  51.373173  -2.400887   Male     10-17   \n",
       "12                 NaN  51.453281  -2.596796   Male   over 34   \n",
       "\n",
       "                               Self-defined ethnicity  \\\n",
       "6                     Asian/Asian British - Pakistani   \n",
       "9   Mixed/Multiple ethnic groups - White and Black...   \n",
       "10  White - English/Welsh/Scottish/Northern Irish/...   \n",
       "11  Black/African/Caribbean/Black British - Caribbean   \n",
       "12  White - English/Welsh/Scottish/Northern Irish/...   \n",
       "\n",
       "   Officer-defined ethnicity  \\\n",
       "6                      Asian   \n",
       "9                      Other   \n",
       "10                     White   \n",
       "11                     Black   \n",
       "12                     White   \n",
       "\n",
       "                                          Legislation   Object of search  \\\n",
       "6               Misuse of Drugs Act 1971 (section 23)   Controlled drugs   \n",
       "9               Misuse of Drugs Act 1971 (section 23)   Controlled drugs   \n",
       "10  Police and Criminal Evidence Act 1984 (section 1)  Offensive weapons   \n",
       "11  Police and Criminal Evidence Act 1984 (section 1)  Offensive weapons   \n",
       "12  Police and Criminal Evidence Act 1984 (section 1)       Stolen goods   \n",
       "\n",
       "                              Outcome Outcome linked to object of search  \\\n",
       "6   Nothing found - no further action                                NaN   \n",
       "9                    Local resolution                               True   \n",
       "10  Nothing found - no further action                                NaN   \n",
       "11  Nothing found - no further action                                NaN   \n",
       "12                   Local resolution                               True   \n",
       "\n",
       "   Removal of more than just outer clothing  \n",
       "6                                      True  \n",
       "9                                      True  \n",
       "10                                    False  \n",
       "11                                    False  \n",
       "12                                    False  "
      ]
     },
     "execution_count": 4,
     "metadata": {},
     "output_type": "execute_result"
    }
   ],
   "source": [
    "df.head(5)"
   ]
  },
  {
   "cell_type": "code",
   "execution_count": 15,
   "metadata": {},
   "outputs": [
    {
     "data": {
      "text/plain": [
       "array(['Asian/Asian British - Pakistani',\n",
       "       'Mixed/Multiple ethnic groups - White and Black Caribbean',\n",
       "       'White - English/Welsh/Scottish/Northern Irish/British',\n",
       "       'Black/African/Caribbean/Black British - Caribbean',\n",
       "       'Other ethnic group - Not stated',\n",
       "       'Black/African/Caribbean/Black British - African',\n",
       "       'Other ethnic group - Any other ethnic group',\n",
       "       'White - Any other White background',\n",
       "       'Black/African/Caribbean/Black British - Any other Black/African/Caribbean background',\n",
       "       'Asian/Asian British - Any other Asian background',\n",
       "       'Mixed/Multiple ethnic groups - White and Black African',\n",
       "       'Asian/Asian British - Bangladeshi',\n",
       "       'Mixed/Multiple ethnic groups - Any other Mixed/Multiple ethnic background',\n",
       "       'Asian/Asian British - Indian', 'White - Irish',\n",
       "       'Mixed/Multiple ethnic groups - White and Asian',\n",
       "       'Asian/Asian British - Chinese', 'Other ethnic group - Arab',\n",
       "       'White - Gypsy or Irish Traveller'], dtype=object)"
      ]
     },
     "execution_count": 15,
     "metadata": {},
     "output_type": "execute_result"
    }
   ],
   "source": [
    "df['Self-defined ethnicity'].unique()"
   ]
  },
  {
   "cell_type": "code",
   "execution_count": 273,
   "metadata": {},
   "outputs": [
    {
     "data": {
      "text/html": [
       "<div>\n",
       "<style scoped>\n",
       "    .dataframe tbody tr th:only-of-type {\n",
       "        vertical-align: middle;\n",
       "    }\n",
       "\n",
       "    .dataframe tbody tr th {\n",
       "        vertical-align: top;\n",
       "    }\n",
       "\n",
       "    .dataframe thead th {\n",
       "        text-align: right;\n",
       "    }\n",
       "</style>\n",
       "<table border=\"1\" class=\"dataframe\">\n",
       "  <thead>\n",
       "    <tr style=\"text-align: right;\">\n",
       "      <th></th>\n",
       "      <th>Outcome</th>\n",
       "    </tr>\n",
       "  </thead>\n",
       "  <tbody>\n",
       "    <tr>\n",
       "      <th>A no further action disposal</th>\n",
       "      <td>1117660</td>\n",
       "    </tr>\n",
       "    <tr>\n",
       "      <th>Arrest</th>\n",
       "      <td>194667</td>\n",
       "    </tr>\n",
       "    <tr>\n",
       "      <th>Community resolution</th>\n",
       "      <td>89274</td>\n",
       "    </tr>\n",
       "    <tr>\n",
       "      <th>Khat or Cannabis warning</th>\n",
       "      <td>35220</td>\n",
       "    </tr>\n",
       "    <tr>\n",
       "      <th>Summons / charged by post</th>\n",
       "      <td>26730</td>\n",
       "    </tr>\n",
       "    <tr>\n",
       "      <th>Penalty Notice for Disorder</th>\n",
       "      <td>23449</td>\n",
       "    </tr>\n",
       "    <tr>\n",
       "      <th>Nothing found - no further action</th>\n",
       "      <td>13499</td>\n",
       "    </tr>\n",
       "    <tr>\n",
       "      <th>Caution (simple or conditional)</th>\n",
       "      <td>6240</td>\n",
       "    </tr>\n",
       "    <tr>\n",
       "      <th>Suspect arrested</th>\n",
       "      <td>3598</td>\n",
       "    </tr>\n",
       "    <tr>\n",
       "      <th>Offender given drugs possession warning</th>\n",
       "      <td>1375</td>\n",
       "    </tr>\n",
       "    <tr>\n",
       "      <th>Local resolution</th>\n",
       "      <td>1035</td>\n",
       "    </tr>\n",
       "    <tr>\n",
       "      <th>Article found - Detailed outcome unavailable</th>\n",
       "      <td>613</td>\n",
       "    </tr>\n",
       "    <tr>\n",
       "      <th>Suspect summonsed to court</th>\n",
       "      <td>446</td>\n",
       "    </tr>\n",
       "    <tr>\n",
       "      <th>Offender given penalty notice</th>\n",
       "      <td>251</td>\n",
       "    </tr>\n",
       "    <tr>\n",
       "      <th>Offender cautioned</th>\n",
       "      <td>161</td>\n",
       "    </tr>\n",
       "    <tr>\n",
       "      <th>Suspected psychoactive substances seized - No further action</th>\n",
       "      <td>6</td>\n",
       "    </tr>\n",
       "  </tbody>\n",
       "</table>\n",
       "</div>"
      ],
      "text/plain": [
       "                                                    Outcome\n",
       "A no further action disposal                        1117660\n",
       "Arrest                                               194667\n",
       "Community resolution                                  89274\n",
       "Khat or Cannabis warning                              35220\n",
       "Summons / charged by post                             26730\n",
       "Penalty Notice for Disorder                           23449\n",
       "Nothing found - no further action                     13499\n",
       "Caution (simple or conditional)                        6240\n",
       "Suspect arrested                                       3598\n",
       "Offender given drugs possession warning                1375\n",
       "Local resolution                                       1035\n",
       "Article found - Detailed outcome unavailable            613\n",
       "Suspect summonsed to court                              446\n",
       "Offender given penalty notice                           251\n",
       "Offender cautioned                                      161\n",
       "Suspected psychoactive substances seized - No f...        6"
      ]
     },
     "execution_count": 273,
     "metadata": {},
     "output_type": "execute_result"
    }
   ],
   "source": [
    "pd.DataFrame(df['Outcome'].value_counts())"
   ]
  },
  {
   "cell_type": "markdown",
   "metadata": {},
   "source": [
    "#### Start Exploring and Plotting"
   ]
  },
  {
   "cell_type": "code",
   "execution_count": 30,
   "metadata": {},
   "outputs": [
    {
     "name": "stdout",
     "output_type": "stream",
     "text": [
      "(1547490, 15)\n",
      "(1488169, 15)\n"
     ]
    },
    {
     "data": {
      "text/plain": [
       "array(['Other or Mixed', 'Asian', 'White', 'Black'], dtype=object)"
      ]
     },
     "execution_count": 30,
     "metadata": {},
     "output_type": "execute_result"
    }
   ],
   "source": [
    "# conflate identity into b/ w/ a\n",
    "\n",
    "df_1 = df_original.copy()\n",
    "\n",
    "print(df_1.shape)\n",
    "df_1.dropna(subset=['Self-defined ethnicity'], inplace= True)\n",
    "\n",
    "print(df_1.shape)\n",
    "df_1['W-B-A'] = np.where(df_1['Self-defined ethnicity'].str.contains('Mixed'), 'Other or Mixed',\n",
    "                    np.where(df_1['Self-defined ethnicity'].str.contains('Black') , 'Black',\n",
    "                      np.where(df_1['Self-defined ethnicity'].str.contains('White'), 'White',\n",
    "                              np.where(df_1['Self-defined ethnicity'].str.contains('Asian'), 'Asian', 'Other or Mixed'))))\n",
    "df_1['W-B-A'].unique()"
   ]
  },
  {
   "cell_type": "markdown",
   "metadata": {},
   "source": [
    "#### Cluster by Location"
   ]
  },
  {
   "cell_type": "code",
   "execution_count": 3,
   "metadata": {},
   "outputs": [
    {
     "data": {
      "text/plain": [
       "array([[51.38329 , -2.361689],\n",
       "       [50.881621, -2.953773],\n",
       "       [51.348244, -2.97746 ],\n",
       "       [51.431919, -2.578493],\n",
       "       [51.434075, -2.580678]])"
      ]
     },
     "execution_count": 3,
     "metadata": {},
     "output_type": "execute_result"
    }
   ],
   "source": [
    "from sklearn.cluster import KMeans\n",
    "\n",
    "location = df.loc[:,['Latitude', 'Longitude']]\n",
    "\n",
    "location.dropna(inplace = True)\n",
    "\n",
    "location = np.array(location)\n",
    "\n",
    "location[0:5]"
   ]
  },
  {
   "cell_type": "code",
   "execution_count": 70,
   "metadata": {},
   "outputs": [
    {
     "name": "stderr",
     "output_type": "stream",
     "text": [
      "C:\\Users\\AD\\anaconda3\\envs\\AIF360\\lib\\site-packages\\sklearn\\cluster\\_kmeans.py:792: FutureWarning: 'n_jobs' was deprecated in version 0.23 and will be removed in 1.0 (renaming of 0.25).\n",
      "  warnings.warn(\"'n_jobs' was deprecated in version 0.23 and will be\"\n"
     ]
    },
    {
     "data": {
      "text/plain": [
       "array([3, 3, 3, ..., 3, 3, 3])"
      ]
     },
     "execution_count": 70,
     "metadata": {},
     "output_type": "execute_result"
    }
   ],
   "source": [
    "model = KMeans(n_clusters = 4, n_jobs = -1)\n",
    "\n",
    "model.fit(location)\n",
    "\n",
    "model.labels_\n"
   ]
  },
  {
   "cell_type": "code",
   "execution_count": 116,
   "metadata": {},
   "outputs": [
    {
     "data": {
      "text/plain": [
       "<matplotlib.collections.PathCollection at 0x2634c516670>"
      ]
     },
     "execution_count": 116,
     "metadata": {},
     "output_type": "execute_result"
    },
    {
     "data": {
      "image/png": "[encoded data removed]",
      "text/plain": [
       "<Figure size 576x360 with 1 Axes>"
      ]
     },
     "metadata": {
      "needs_background": "light"
     },
     "output_type": "display_data"
    }
   ],
   "source": [
    "plt.figure(figsize=(8,5))\n",
    "plt.title(\"Cluster by Location\", fontsize=18)\n",
    "plt.grid(True)\n",
    "plt.scatter(location[:,1], location[:,0], c = model.labels_)"
   ]
  },
  {
   "cell_type": "markdown",
   "metadata": {},
   "source": [
    "#### Apply elbow method for good measure. Two natural clusters present."
   ]
  },
  {
   "cell_type": "code",
   "execution_count": 80,
   "metadata": {},
   "outputs": [],
   "source": [
    "from scipy.spatial.distance import cdist\n",
    "\n",
    "distortions = []\n",
    "vals = {}\n",
    "\n",
    "for k in range(1,15):\n",
    "    Kmodel = KMeans(n_clusters=k)\n",
    "    Kmodel.fit(location)\n",
    " \n",
    "    distortions.append(sum(np.min(cdist(location, Kmodel.cluster_centers_,\n",
    "                                        'euclidean'), axis=1)) / location.shape[0])\n",
    " \n",
    "    vals[k] = sum(np.min(cdist(location, Kmodel.cluster_centers_,\n",
    "                                   'euclidean'), axis=1)) / location.shape[0]"
   ]
  },
  {
   "cell_type": "code",
   "execution_count": 82,
   "metadata": {},
   "outputs": [
    {
     "name": "stdout",
     "output_type": "stream",
     "text": [
      "1 : 1.2669432017690327\n",
      "2 : 0.5420353624706633\n",
      "3 : 0.46558067784928897\n",
      "4 : 0.3978128152800638\n",
      "5 : 0.33440567304611096\n",
      "6 : 0.3049178093045052\n",
      "7 : 0.27725149478100775\n",
      "8 : 0.2605477040947161\n",
      "9 : 0.2440868872761642\n",
      "10 : 0.2274311858948783\n",
      "11 : 0.22914382244701537\n",
      "12 : 0.22017754250214447\n",
      "13 : 0.20636464920236888\n",
      "14 : 0.19983839048126875\n"
     ]
    }
   ],
   "source": [
    "\n",
    "for key, val in vals.items():\n",
    "    print(f'{key} : {val}')"
   ]
  },
  {
   "cell_type": "code",
   "execution_count": 83,
   "metadata": {},
   "outputs": [
    {
     "data": {
      "image/png": "[encoded data removed]",
      "text/plain": [
       "<Figure size 432x288 with 1 Axes>"
      ]
     },
     "metadata": {
      "needs_background": "light"
     },
     "output_type": "display_data"
    }
   ],
   "source": [
    "\n",
    "plt.plot(range(1,15), distortions, 'bx-')\n",
    "plt.xlabel('Values of K')\n",
    "plt.ylabel('Distortion')\n",
    "plt.title('The Elbow Method using Distortion')\n",
    "plt.show()"
   ]
  },
  {
   "cell_type": "markdown",
   "metadata": {},
   "source": [
    "#### Train with more clusters to discover the highest density regions by frequency of label"
   ]
  },
  {
   "cell_type": "code",
   "execution_count": 19,
   "metadata": {},
   "outputs": [
    {
     "name": "stderr",
     "output_type": "stream",
     "text": [
      "C:\\Users\\AD\\anaconda3\\envs\\AIF360\\lib\\site-packages\\sklearn\\cluster\\_kmeans.py:792: FutureWarning: 'n_jobs' was deprecated in version 0.23 and will be removed in 1.0 (renaming of 0.25).\n",
      "  warnings.warn(\"'n_jobs' was deprecated in version 0.23 and will be\"\n"
     ]
    },
    {
     "data": {
      "text/plain": [
       "KMeans(n_clusters=57, n_jobs=-1)"
      ]
     },
     "execution_count": 19,
     "metadata": {},
     "output_type": "execute_result"
    }
   ],
   "source": [
    "mm = KMeans(n_clusters = 57, n_jobs = -1)\n",
    "\n",
    "mm.fit(location)"
   ]
  },
  {
   "cell_type": "code",
   "execution_count": 20,
   "metadata": {},
   "outputs": [
    {
     "name": "stdout",
     "output_type": "stream",
     "text": [
      "16629.0\n"
     ]
    },
    {
     "data": {
      "text/plain": [
       "0     182998\n",
       "25    119286\n",
       "54    100457\n",
       "31     79580\n",
       "22     76490\n",
       "1      66291\n",
       "40     65847\n",
       "12     53416\n",
       "45     48033\n",
       "9      34130\n",
       "3      33062\n",
       "41     22467\n",
       "2      18299\n",
       "5      18288\n",
       "47     16629\n",
       "6      16493\n",
       "24     16343\n",
       "8      15344\n",
       "4      14628\n",
       "26     14583\n",
       "56     14219\n",
       "43     14212\n",
       "37     13001\n",
       "52     12863\n",
       "30     11776\n",
       "35     11627\n",
       "51     11520\n",
       "44     11142\n",
       "11     10719\n",
       "38      9136\n",
       "7       9006\n",
       "39      8768\n",
       "15      8617\n",
       "33      8200\n",
       "42      7396\n",
       "18      7351\n",
       "28      6982\n",
       "46      5950\n",
       "34      5925\n",
       "14      5534\n",
       "17      5231\n",
       "32      4985\n",
       "27      4730\n",
       "55      4713\n",
       "36      4178\n",
       "10      4067\n",
       "48      3979\n",
       "49      3902\n",
       "23      3812\n",
       "16      3585\n",
       "53      3457\n",
       "13      3226\n",
       "50      2181\n",
       "21      1862\n",
       "20      1475\n",
       "29       656\n",
       "19       212\n",
       "dtype: int64"
      ]
     },
     "execution_count": 20,
     "metadata": {},
     "output_type": "execute_result"
    }
   ],
   "source": [
    "print(pd.Series(mm.labels_).value_counts().quantile(0.75))\n",
    "pd.Series(mm.labels_).value_counts()"
   ]
  },
  {
   "cell_type": "code",
   "execution_count": 28,
   "metadata": {},
   "outputs": [
    {
     "data": {
      "text/plain": [
       "array([99, 99,  3, ..., 99, 99, 99])"
      ]
     },
     "execution_count": 28,
     "metadata": {},
     "output_type": "execute_result"
    }
   ],
   "source": [
    "ccc = mm.labels_.copy()\n",
    "\n",
    "for i in range(0,len(ccc)):\n",
    "    if ccc[i] not in [0,25,54,31,22,1,40,12,45,9,3,41,2,5,47]:\n",
    "        ccc[i] = 99\n",
    "\n",
    "ccc"
   ]
  },
  {
   "cell_type": "code",
   "execution_count": 29,
   "metadata": {},
   "outputs": [
    {
     "data": {
      "text/plain": [
       "<matplotlib.collections.PathCollection at 0x21908f93670>"
      ]
     },
     "execution_count": 29,
     "metadata": {},
     "output_type": "execute_result"
    },
    {
     "data": {
      "image/png": "[encoded data removed]",
      "text/plain": [
       "<Figure size 576x504 with 1 Axes>"
      ]
     },
     "metadata": {
      "needs_background": "light"
     },
     "output_type": "display_data"
    }
   ],
   "source": [
    "plt.figure(figsize=(8,7))\n",
    "plt.title(\"Stop-and-search, Top 25th Percentile Highest Density Areas\", fontsize=16)\n",
    "plt.grid(True)\n",
    "plt.scatter(location[:,1], location[:,0], c = ccc, s=2)"
   ]
  },
  {
   "cell_type": "markdown",
   "metadata": {},
   "source": [
    "#### Another figure with more colored cluster regions"
   ]
  },
  {
   "cell_type": "code",
   "execution_count": 354,
   "metadata": {},
   "outputs": [
    {
     "data": {
      "text/plain": [
       "<matplotlib.collections.PathCollection at 0x21f9106fd60>"
      ]
     },
     "execution_count": 354,
     "metadata": {},
     "output_type": "execute_result"
    },
    {
     "data": {
      "image/png": "[encoded data removed]",
      "text/plain": [
       "<Figure size 576x504 with 1 Axes>"
      ]
     },
     "metadata": {
      "needs_background": "light"
     },
     "output_type": "display_data"
    }
   ],
   "source": [
    "plt.figure(figsize=(8,7))\n",
    "plt.title(\"UK Stop-and-Search by Coordinates\", fontsize=18)\n",
    "plt.grid(True)\n",
    "plt.scatter(location[:,1], location[:,0], c = mm.labels_, s=2)\n",
    "#plt.savefig('Crime_33Clusters.png', dpi=300)"
   ]
  },
  {
   "cell_type": "markdown",
   "metadata": {},
   "source": [
    "Even though the actual location of the incidents is anonymised by approximating to the nearest public place, some densely packed regions can be observed. Although the plot uses an arbitrary number of clusters, the data will be classified using a larger number of clusters in order to partition it proportionately into training and test subsets for the following part of the project."
   ]
  },
  {
   "cell_type": "markdown",
   "metadata": {},
   "source": [
    "#### Compare search numbers between groups"
   ]
  },
  {
   "cell_type": "code",
   "execution_count": 7,
   "metadata": {},
   "outputs": [
    {
     "data": {
      "text/plain": [
       "White             755585\n",
       "Other or Mixed    313044\n",
       "Black             254568\n",
       "Asian             164972\n",
       "Name: Search Count, dtype: int64"
      ]
     },
     "execution_count": 7,
     "metadata": {},
     "output_type": "execute_result"
    }
   ],
   "source": [
    "incident = df_1['W-B-A'].value_counts().sort_values(ascending = False).rename('Search Count')\n",
    "incident"
   ]
  },
  {
   "cell_type": "markdown",
   "metadata": {},
   "source": [
    "The next table portrays incident count by broad ethnic group and uses the White population of the UK to answer the question: 'if there were as many people from the other groups as there are White, what would be the proportional stop-and-search incident count?'."
   ]
  },
  {
   "cell_type": "code",
   "execution_count": 12,
   "metadata": {},
   "outputs": [
    {
     "data": {
      "text/html": [
       "<div>\n",
       "<style scoped>\n",
       "    .dataframe tbody tr th:only-of-type {\n",
       "        vertical-align: middle;\n",
       "    }\n",
       "\n",
       "    .dataframe tbody tr th {\n",
       "        vertical-align: top;\n",
       "    }\n",
       "\n",
       "    .dataframe thead th {\n",
       "        text-align: right;\n",
       "    }\n",
       "</style>\n",
       "<table border=\"1\" class=\"dataframe\">\n",
       "  <thead>\n",
       "    <tr style=\"text-align: right;\">\n",
       "      <th></th>\n",
       "      <th>Search Count</th>\n",
       "      <th>UK Demographic Relative Ratio</th>\n",
       "      <th>Projected Searches</th>\n",
       "      <th>Projected Factor Difference</th>\n",
       "    </tr>\n",
       "  </thead>\n",
       "  <tbody>\n",
       "    <tr>\n",
       "      <th>White</th>\n",
       "      <td>755585</td>\n",
       "      <td>1.000000</td>\n",
       "      <td>755585.0</td>\n",
       "      <td>1.000000</td>\n",
       "    </tr>\n",
       "    <tr>\n",
       "      <th>Other or Mixed</th>\n",
       "      <td>313044</td>\n",
       "      <td>0.033268</td>\n",
       "      <td>25137.0</td>\n",
       "      <td>12.453613</td>\n",
       "    </tr>\n",
       "    <tr>\n",
       "      <th>Black</th>\n",
       "      <td>254568</td>\n",
       "      <td>0.034530</td>\n",
       "      <td>26090.0</td>\n",
       "      <td>9.757171</td>\n",
       "    </tr>\n",
       "    <tr>\n",
       "      <th>Asian</th>\n",
       "      <td>164972</td>\n",
       "      <td>0.079385</td>\n",
       "      <td>59982.0</td>\n",
       "      <td>2.750353</td>\n",
       "    </tr>\n",
       "  </tbody>\n",
       "</table>\n",
       "</div>"
      ],
      "text/plain": [
       "                Search Count  UK Demographic Relative Ratio  \\\n",
       "White                 755585                       1.000000   \n",
       "Other or Mixed        313044                       0.033268   \n",
       "Black                 254568                       0.034530   \n",
       "Asian                 164972                       0.079385   \n",
       "\n",
       "                Projected Searches  Projected Factor Difference  \n",
       "White                     755585.0                     1.000000  \n",
       "Other or Mixed             25137.0                    12.453613  \n",
       "Black                      26090.0                     9.757171  \n",
       "Asian                      59982.0                     2.750353  "
      ]
     },
     "execution_count": 12,
     "metadata": {},
     "output_type": "execute_result"
    }
   ],
   "source": [
    "counts = pd.concat([incident, pd.Series(data = [1,0.033268,0.03453,0.079385], index = ['White','Other or Mixed','Black','Asian']).rename(\n",
    "    'UK Demographic Relative Ratio')], axis = 1) \n",
    "counts['Projected Searches'] = round(counts.iloc[0,0] * counts['UK Demographic Relative Ratio'],0)\n",
    "counts['Projected Factor Difference'] = counts['Search Count'] / (counts.iloc[0,0] * counts['UK Demographic Relative Ratio'])\n",
    "\n",
    "counts\n"
   ]
  },
  {
   "cell_type": "markdown",
   "metadata": {},
   "source": [
    "#### Look at 'Outcome linked to object of search' column and create table"
   ]
  },
  {
   "cell_type": "code",
   "execution_count": 62,
   "metadata": {},
   "outputs": [
    {
     "name": "stdout",
     "output_type": "stream",
     "text": [
      "(1488169, 16)\n",
      "(432490, 16)\n"
     ]
    },
    {
     "data": {
      "text/plain": [
       "W-B-A           Outcome linked to object of search\n",
       "Asian           True                                   16296\n",
       "                False                                  12323\n",
       "Black           False                                  16134\n",
       "                True                                   13463\n",
       "Other or Mixed  False                                  39580\n",
       "                True                                   30108\n",
       "White           False                                 171084\n",
       "                True                                  133502\n",
       "Name: Outcome linked to object of search, dtype: int64"
      ]
     },
     "execution_count": 62,
     "metadata": {},
     "output_type": "execute_result"
    }
   ],
   "source": [
    "df_2 = df_1.copy()\n",
    "\n",
    "print(df_2.shape)\n",
    "\n",
    "df_2.dropna(subset = ['Outcome linked to object of search'], inplace = True)\n",
    "\n",
    "print(df_2.shape)\n",
    "\n",
    "\n",
    "incident_adjusted = df_2.groupby('W-B-A')['Outcome linked to object of search'].count().sort_values(ascending = False).rename('Searches')\n",
    "\n",
    "true_suspicion = df_2.groupby('W-B-A')['Outcome linked to object of search'].value_counts()\n",
    "\n",
    "true_suspicion"
   ]
  },
  {
   "cell_type": "code",
   "execution_count": 63,
   "metadata": {},
   "outputs": [
    {
     "data": {
      "text/html": [
       "<div>\n",
       "<style scoped>\n",
       "    .dataframe tbody tr th:only-of-type {\n",
       "        vertical-align: middle;\n",
       "    }\n",
       "\n",
       "    .dataframe tbody tr th {\n",
       "        vertical-align: top;\n",
       "    }\n",
       "\n",
       "    .dataframe thead th {\n",
       "        text-align: right;\n",
       "    }\n",
       "</style>\n",
       "<table border=\"1\" class=\"dataframe\">\n",
       "  <thead>\n",
       "    <tr style=\"text-align: right;\">\n",
       "      <th></th>\n",
       "      <th>Searches</th>\n",
       "      <th>Outcome linked to object of search</th>\n",
       "      <th>Proportion</th>\n",
       "    </tr>\n",
       "  </thead>\n",
       "  <tbody>\n",
       "    <tr>\n",
       "      <th>White</th>\n",
       "      <td>304586</td>\n",
       "      <td>133502</td>\n",
       "      <td>0.438306</td>\n",
       "    </tr>\n",
       "    <tr>\n",
       "      <th>Other or Mixed</th>\n",
       "      <td>69688</td>\n",
       "      <td>30108</td>\n",
       "      <td>0.432040</td>\n",
       "    </tr>\n",
       "    <tr>\n",
       "      <th>Black</th>\n",
       "      <td>29597</td>\n",
       "      <td>13463</td>\n",
       "      <td>0.454877</td>\n",
       "    </tr>\n",
       "    <tr>\n",
       "      <th>Asian</th>\n",
       "      <td>28619</td>\n",
       "      <td>16296</td>\n",
       "      <td>0.569412</td>\n",
       "    </tr>\n",
       "  </tbody>\n",
       "</table>\n",
       "</div>"
      ],
      "text/plain": [
       "                Searches  Outcome linked to object of search  Proportion\n",
       "White             304586                              133502    0.438306\n",
       "Other or Mixed     69688                               30108    0.432040\n",
       "Black              29597                               13463    0.454877\n",
       "Asian              28619                               16296    0.569412"
      ]
     },
     "execution_count": 63,
     "metadata": {},
     "output_type": "execute_result"
    }
   ],
   "source": [
    "linked = pd.concat([incident_adjusted, pd.Series([133502,30108,13463,16296], \n",
    "                                                 name = 'Outcome linked to object of search', \n",
    "                                                 index = ['White','Other or Mixed','Black','Asian'])], axis = 1)\n",
    "linked['Proportion'] = linked['Outcome linked to object of search']/linked['Searches']\n",
    "\n",
    "linked"
   ]
  },
  {
   "cell_type": "markdown",
   "metadata": {},
   "source": [
    "#### Preprocess data for model training"
   ]
  },
  {
   "cell_type": "code",
   "execution_count": 272,
   "metadata": {},
   "outputs": [],
   "source": [
    "df_s = df.copy()\n",
    "df_s.dropna(subset =['Outcome', 'Latitude', 'Longitude', 'Officer-defined ethnicity'], inplace = True)\n",
    "\n",
    "df_s = df_s.sample(frac = 1)"
   ]
  },
  {
   "cell_type": "code",
   "execution_count": 242,
   "metadata": {
    "scrolled": false
   },
   "outputs": [
    {
     "data": {
      "text/html": [
       "<div>\n",
       "<style scoped>\n",
       "    .dataframe tbody tr th:only-of-type {\n",
       "        vertical-align: middle;\n",
       "    }\n",
       "\n",
       "    .dataframe tbody tr th {\n",
       "        vertical-align: top;\n",
       "    }\n",
       "\n",
       "    .dataframe thead th {\n",
       "        text-align: right;\n",
       "    }\n",
       "</style>\n",
       "<table border=\"1\" class=\"dataframe\">\n",
       "  <thead>\n",
       "    <tr style=\"text-align: right;\">\n",
       "      <th></th>\n",
       "      <th>Type</th>\n",
       "      <th>Date</th>\n",
       "      <th>Part of a policing operation</th>\n",
       "      <th>Policing operation</th>\n",
       "      <th>Latitude</th>\n",
       "      <th>Longitude</th>\n",
       "      <th>Gender</th>\n",
       "      <th>Age range</th>\n",
       "      <th>Self-defined ethnicity</th>\n",
       "      <th>Officer-defined ethnicity</th>\n",
       "      <th>Legislation</th>\n",
       "      <th>Object of search</th>\n",
       "      <th>Outcome</th>\n",
       "      <th>Outcome linked to object of search</th>\n",
       "      <th>Removal of more than just outer clothing</th>\n",
       "    </tr>\n",
       "  </thead>\n",
       "  <tbody>\n",
       "    <tr>\n",
       "      <th>1463822</th>\n",
       "      <td>Person search</td>\n",
       "      <td>2020-11-07T17:13:00+00:00</td>\n",
       "      <td>False</td>\n",
       "      <td>NaN</td>\n",
       "      <td>51.495419</td>\n",
       "      <td>-0.097501</td>\n",
       "      <td>Male</td>\n",
       "      <td>over 34</td>\n",
       "      <td>White - Any other White background</td>\n",
       "      <td>White</td>\n",
       "      <td>Misuse of Drugs Act 1971 (section 23)</td>\n",
       "      <td>Controlled drugs</td>\n",
       "      <td>A no further action disposal</td>\n",
       "      <td>NaN</td>\n",
       "      <td>NaN</td>\n",
       "    </tr>\n",
       "    <tr>\n",
       "      <th>1455007</th>\n",
       "      <td>Person search</td>\n",
       "      <td>2020-11-06T00:04:46+00:00</td>\n",
       "      <td>NaN</td>\n",
       "      <td>NaN</td>\n",
       "      <td>53.490615</td>\n",
       "      <td>-3.033360</td>\n",
       "      <td>Female</td>\n",
       "      <td>18-24</td>\n",
       "      <td>White - English/Welsh/Scottish/Northern Irish/...</td>\n",
       "      <td>White</td>\n",
       "      <td>Police and Criminal Evidence Act 1984 (section 1)</td>\n",
       "      <td>NaN</td>\n",
       "      <td>A no further action disposal</td>\n",
       "      <td>NaN</td>\n",
       "      <td>False</td>\n",
       "    </tr>\n",
       "    <tr>\n",
       "      <th>1257880</th>\n",
       "      <td>Person search</td>\n",
       "      <td>2020-07-10T22:38:00+00:00</td>\n",
       "      <td>False</td>\n",
       "      <td>NaN</td>\n",
       "      <td>51.561416</td>\n",
       "      <td>-0.299628</td>\n",
       "      <td>Male</td>\n",
       "      <td>10-17</td>\n",
       "      <td>Black/African/Caribbean/Black British - Any ot...</td>\n",
       "      <td>Black</td>\n",
       "      <td>Police and Criminal Evidence Act 1984 (section 1)</td>\n",
       "      <td>Offensive weapons</td>\n",
       "      <td>A no further action disposal</td>\n",
       "      <td>NaN</td>\n",
       "      <td>NaN</td>\n",
       "    </tr>\n",
       "    <tr>\n",
       "      <th>484954</th>\n",
       "      <td>Person search</td>\n",
       "      <td>2019-04-08T11:36:22+00:00</td>\n",
       "      <td>False</td>\n",
       "      <td>NaN</td>\n",
       "      <td>52.704055</td>\n",
       "      <td>-2.753504</td>\n",
       "      <td>Male</td>\n",
       "      <td>over 34</td>\n",
       "      <td>White - English/Welsh/Scottish/Northern Irish/...</td>\n",
       "      <td>White</td>\n",
       "      <td>Misuse of Drugs Act 1971 (section 23)</td>\n",
       "      <td>Controlled drugs</td>\n",
       "      <td>Arrest</td>\n",
       "      <td>True</td>\n",
       "      <td>NaN</td>\n",
       "    </tr>\n",
       "    <tr>\n",
       "      <th>634122</th>\n",
       "      <td>Person search</td>\n",
       "      <td>2019-08-03T23:08:03+00:00</td>\n",
       "      <td>NaN</td>\n",
       "      <td>NaN</td>\n",
       "      <td>53.422230</td>\n",
       "      <td>-2.946241</td>\n",
       "      <td>Male</td>\n",
       "      <td>over 34</td>\n",
       "      <td>White - English/Welsh/Scottish/Northern Irish/...</td>\n",
       "      <td>White</td>\n",
       "      <td>NaN</td>\n",
       "      <td>Offensive weapons</td>\n",
       "      <td>A no further action disposal</td>\n",
       "      <td>NaN</td>\n",
       "      <td>False</td>\n",
       "    </tr>\n",
       "  </tbody>\n",
       "</table>\n",
       "</div>"
      ],
      "text/plain": [
       "                  Type                       Date  \\\n",
       "1463822  Person search  2020-11-07T17:13:00+00:00   \n",
       "1455007  Person search  2020-11-06T00:04:46+00:00   \n",
       "1257880  Person search  2020-07-10T22:38:00+00:00   \n",
       "484954   Person search  2019-04-08T11:36:22+00:00   \n",
       "634122   Person search  2019-08-03T23:08:03+00:00   \n",
       "\n",
       "        Part of a policing operation  Policing operation   Latitude  \\\n",
       "1463822                        False                 NaN  51.495419   \n",
       "1455007                          NaN                 NaN  53.490615   \n",
       "1257880                        False                 NaN  51.561416   \n",
       "484954                         False                 NaN  52.704055   \n",
       "634122                           NaN                 NaN  53.422230   \n",
       "\n",
       "         Longitude  Gender Age range  \\\n",
       "1463822  -0.097501    Male   over 34   \n",
       "1455007  -3.033360  Female     18-24   \n",
       "1257880  -0.299628    Male     10-17   \n",
       "484954   -2.753504    Male   over 34   \n",
       "634122   -2.946241    Male   over 34   \n",
       "\n",
       "                                    Self-defined ethnicity  \\\n",
       "1463822                 White - Any other White background   \n",
       "1455007  White - English/Welsh/Scottish/Northern Irish/...   \n",
       "1257880  Black/African/Caribbean/Black British - Any ot...   \n",
       "484954   White - English/Welsh/Scottish/Northern Irish/...   \n",
       "634122   White - English/Welsh/Scottish/Northern Irish/...   \n",
       "\n",
       "        Officer-defined ethnicity  \\\n",
       "1463822                     White   \n",
       "1455007                     White   \n",
       "1257880                     Black   \n",
       "484954                      White   \n",
       "634122                      White   \n",
       "\n",
       "                                               Legislation   Object of search  \\\n",
       "1463822              Misuse of Drugs Act 1971 (section 23)   Controlled drugs   \n",
       "1455007  Police and Criminal Evidence Act 1984 (section 1)                NaN   \n",
       "1257880  Police and Criminal Evidence Act 1984 (section 1)  Offensive weapons   \n",
       "484954               Misuse of Drugs Act 1971 (section 23)   Controlled drugs   \n",
       "634122                                                 NaN  Offensive weapons   \n",
       "\n",
       "                              Outcome Outcome linked to object of search  \\\n",
       "1463822  A no further action disposal                                NaN   \n",
       "1455007  A no further action disposal                                NaN   \n",
       "1257880  A no further action disposal                                NaN   \n",
       "484954                         Arrest                               True   \n",
       "634122   A no further action disposal                                NaN   \n",
       "\n",
       "        Removal of more than just outer clothing  \n",
       "1463822                                      NaN  \n",
       "1455007                                    False  \n",
       "1257880                                      NaN  \n",
       "484954                                       NaN  \n",
       "634122                                     False  "
      ]
     },
     "execution_count": 242,
     "metadata": {},
     "output_type": "execute_result"
    }
   ],
   "source": [
    "df_s.head(5)"
   ]
  },
  {
   "cell_type": "markdown",
   "metadata": {},
   "source": [
    "#### Encode labels"
   ]
  },
  {
   "cell_type": "code",
   "execution_count": 273,
   "metadata": {},
   "outputs": [
    {
     "data": {
      "text/html": [
       "<div>\n",
       "<style scoped>\n",
       "    .dataframe tbody tr th:only-of-type {\n",
       "        vertical-align: middle;\n",
       "    }\n",
       "\n",
       "    .dataframe tbody tr th {\n",
       "        vertical-align: top;\n",
       "    }\n",
       "\n",
       "    .dataframe thead th {\n",
       "        text-align: right;\n",
       "    }\n",
       "</style>\n",
       "<table border=\"1\" class=\"dataframe\">\n",
       "  <thead>\n",
       "    <tr style=\"text-align: right;\">\n",
       "      <th></th>\n",
       "      <th>Type_Person search</th>\n",
       "      <th>Type_Vehicle search</th>\n",
       "      <th>Part of a policing operation_True</th>\n",
       "      <th>Gender_Male</th>\n",
       "      <th>Gender_Other</th>\n",
       "      <th>Age range_18-24</th>\n",
       "      <th>Age range_25-34</th>\n",
       "      <th>Age range_over 34</th>\n",
       "      <th>Age range_under 10</th>\n",
       "      <th>Self-defined ethnicity_Asian/Asian British - Bangladeshi</th>\n",
       "      <th>...</th>\n",
       "      <th>Object of search_Evidence of wildlife offences</th>\n",
       "      <th>Object of search_Firearms</th>\n",
       "      <th>Object of search_Fireworks</th>\n",
       "      <th>Object of search_Game or poaching equipment</th>\n",
       "      <th>Object of search_Goods on which duty has not been paid etc.</th>\n",
       "      <th>Object of search_Offensive weapons</th>\n",
       "      <th>Object of search_Psychoactive substances</th>\n",
       "      <th>Object of search_Seals or hunting equipment</th>\n",
       "      <th>Object of search_Stolen goods</th>\n",
       "      <th>Removal of more than just outer clothing_True</th>\n",
       "    </tr>\n",
       "  </thead>\n",
       "  <tbody>\n",
       "    <tr>\n",
       "      <th>1474522</th>\n",
       "      <td>0</td>\n",
       "      <td>0</td>\n",
       "      <td>0</td>\n",
       "      <td>1</td>\n",
       "      <td>0</td>\n",
       "      <td>1</td>\n",
       "      <td>0</td>\n",
       "      <td>0</td>\n",
       "      <td>0</td>\n",
       "      <td>0</td>\n",
       "      <td>...</td>\n",
       "      <td>0</td>\n",
       "      <td>0</td>\n",
       "      <td>0</td>\n",
       "      <td>0</td>\n",
       "      <td>0</td>\n",
       "      <td>0</td>\n",
       "      <td>0</td>\n",
       "      <td>0</td>\n",
       "      <td>0</td>\n",
       "      <td>0</td>\n",
       "    </tr>\n",
       "    <tr>\n",
       "      <th>579496</th>\n",
       "      <td>1</td>\n",
       "      <td>0</td>\n",
       "      <td>0</td>\n",
       "      <td>1</td>\n",
       "      <td>0</td>\n",
       "      <td>0</td>\n",
       "      <td>1</td>\n",
       "      <td>0</td>\n",
       "      <td>0</td>\n",
       "      <td>0</td>\n",
       "      <td>...</td>\n",
       "      <td>0</td>\n",
       "      <td>0</td>\n",
       "      <td>0</td>\n",
       "      <td>0</td>\n",
       "      <td>0</td>\n",
       "      <td>1</td>\n",
       "      <td>0</td>\n",
       "      <td>0</td>\n",
       "      <td>0</td>\n",
       "      <td>0</td>\n",
       "    </tr>\n",
       "    <tr>\n",
       "      <th>1325254</th>\n",
       "      <td>1</td>\n",
       "      <td>0</td>\n",
       "      <td>0</td>\n",
       "      <td>1</td>\n",
       "      <td>0</td>\n",
       "      <td>0</td>\n",
       "      <td>0</td>\n",
       "      <td>0</td>\n",
       "      <td>0</td>\n",
       "      <td>0</td>\n",
       "      <td>...</td>\n",
       "      <td>0</td>\n",
       "      <td>0</td>\n",
       "      <td>0</td>\n",
       "      <td>0</td>\n",
       "      <td>0</td>\n",
       "      <td>0</td>\n",
       "      <td>0</td>\n",
       "      <td>0</td>\n",
       "      <td>0</td>\n",
       "      <td>0</td>\n",
       "    </tr>\n",
       "    <tr>\n",
       "      <th>360182</th>\n",
       "      <td>1</td>\n",
       "      <td>0</td>\n",
       "      <td>0</td>\n",
       "      <td>1</td>\n",
       "      <td>0</td>\n",
       "      <td>0</td>\n",
       "      <td>0</td>\n",
       "      <td>0</td>\n",
       "      <td>0</td>\n",
       "      <td>0</td>\n",
       "      <td>...</td>\n",
       "      <td>0</td>\n",
       "      <td>0</td>\n",
       "      <td>0</td>\n",
       "      <td>0</td>\n",
       "      <td>0</td>\n",
       "      <td>1</td>\n",
       "      <td>0</td>\n",
       "      <td>0</td>\n",
       "      <td>0</td>\n",
       "      <td>0</td>\n",
       "    </tr>\n",
       "    <tr>\n",
       "      <th>1354558</th>\n",
       "      <td>1</td>\n",
       "      <td>0</td>\n",
       "      <td>0</td>\n",
       "      <td>1</td>\n",
       "      <td>0</td>\n",
       "      <td>0</td>\n",
       "      <td>0</td>\n",
       "      <td>0</td>\n",
       "      <td>0</td>\n",
       "      <td>0</td>\n",
       "      <td>...</td>\n",
       "      <td>0</td>\n",
       "      <td>0</td>\n",
       "      <td>0</td>\n",
       "      <td>0</td>\n",
       "      <td>0</td>\n",
       "      <td>0</td>\n",
       "      <td>0</td>\n",
       "      <td>0</td>\n",
       "      <td>0</td>\n",
       "      <td>0</td>\n",
       "    </tr>\n",
       "  </tbody>\n",
       "</table>\n",
       "<p>5 rows × 65 columns</p>\n",
       "</div>"
      ],
      "text/plain": [
       "         Type_Person search  Type_Vehicle search  \\\n",
       "1474522                   0                    0   \n",
       "579496                    1                    0   \n",
       "1325254                   1                    0   \n",
       "360182                    1                    0   \n",
       "1354558                   1                    0   \n",
       "\n",
       "         Part of a policing operation_True  Gender_Male  Gender_Other  \\\n",
       "1474522                                  0            1             0   \n",
       "579496                                   0            1             0   \n",
       "1325254                                  0            1             0   \n",
       "360182                                   0            1             0   \n",
       "1354558                                  0            1             0   \n",
       "\n",
       "         Age range_18-24  Age range_25-34  Age range_over 34  \\\n",
       "1474522                1                0                  0   \n",
       "579496                 0                1                  0   \n",
       "1325254                0                0                  0   \n",
       "360182                 0                0                  0   \n",
       "1354558                0                0                  0   \n",
       "\n",
       "         Age range_under 10  \\\n",
       "1474522                   0   \n",
       "579496                    0   \n",
       "1325254                   0   \n",
       "360182                    0   \n",
       "1354558                   0   \n",
       "\n",
       "         Self-defined ethnicity_Asian/Asian British - Bangladeshi  ...  \\\n",
       "1474522                                                  0         ...   \n",
       "579496                                                   0         ...   \n",
       "1325254                                                  0         ...   \n",
       "360182                                                   0         ...   \n",
       "1354558                                                  0         ...   \n",
       "\n",
       "         Object of search_Evidence of wildlife offences  \\\n",
       "1474522                                               0   \n",
       "579496                                                0   \n",
       "1325254                                               0   \n",
       "360182                                                0   \n",
       "1354558                                               0   \n",
       "\n",
       "         Object of search_Firearms  Object of search_Fireworks  \\\n",
       "1474522                          0                           0   \n",
       "579496                           0                           0   \n",
       "1325254                          0                           0   \n",
       "360182                           0                           0   \n",
       "1354558                          0                           0   \n",
       "\n",
       "         Object of search_Game or poaching equipment  \\\n",
       "1474522                                            0   \n",
       "579496                                             0   \n",
       "1325254                                            0   \n",
       "360182                                             0   \n",
       "1354558                                            0   \n",
       "\n",
       "         Object of search_Goods on which duty has not been paid etc.  \\\n",
       "1474522                                                  0             \n",
       "579496                                                   0             \n",
       "1325254                                                  0             \n",
       "360182                                                   0             \n",
       "1354558                                                  0             \n",
       "\n",
       "         Object of search_Offensive weapons  \\\n",
       "1474522                                   0   \n",
       "579496                                    1   \n",
       "1325254                                   0   \n",
       "360182                                    1   \n",
       "1354558                                   0   \n",
       "\n",
       "         Object of search_Psychoactive substances  \\\n",
       "1474522                                         0   \n",
       "579496                                          0   \n",
       "1325254                                         0   \n",
       "360182                                          0   \n",
       "1354558                                         0   \n",
       "\n",
       "         Object of search_Seals or hunting equipment  \\\n",
       "1474522                                            0   \n",
       "579496                                             0   \n",
       "1325254                                            0   \n",
       "360182                                             0   \n",
       "1354558                                            0   \n",
       "\n",
       "         Object of search_Stolen goods  \\\n",
       "1474522                              0   \n",
       "579496                               0   \n",
       "1325254                              0   \n",
       "360182                               0   \n",
       "1354558                              0   \n",
       "\n",
       "         Removal of more than just outer clothing_True  \n",
       "1474522                                              0  \n",
       "579496                                               0  \n",
       "1325254                                              0  \n",
       "360182                                               0  \n",
       "1354558                                              0  \n",
       "\n",
       "[5 rows x 65 columns]"
      ]
     },
     "execution_count": 273,
     "metadata": {},
     "output_type": "execute_result"
    }
   ],
   "source": [
    "encoded = df_s.iloc[:, [0,2,6,7,8,9,10,11,14]]\n",
    "\n",
    "encoded = pd.get_dummies(encoded,prefix_sep='_', drop_first=True)\n",
    "\n",
    "encoded.head()"
   ]
  },
  {
   "cell_type": "code",
   "execution_count": 274,
   "metadata": {},
   "outputs": [],
   "source": [
    "labs = df_s.iloc[:,12]\n",
    "\n",
    "from sklearn.preprocessing import LabelEncoder\n",
    "labs = LabelEncoder().fit_transform(labs)\n"
   ]
  },
  {
   "cell_type": "code",
   "execution_count": 275,
   "metadata": {},
   "outputs": [
    {
     "data": {
      "text/plain": [
       "((1143421, 65), (1143421,))"
      ]
     },
     "execution_count": 275,
     "metadata": {},
     "output_type": "execute_result"
    }
   ],
   "source": [
    "encoded.shape, labs.shape"
   ]
  },
  {
   "cell_type": "markdown",
   "metadata": {},
   "source": [
    "#### Train a set of classifiers with and without the race feature"
   ]
  },
  {
   "cell_type": "code",
   "execution_count": 161,
   "metadata": {},
   "outputs": [],
   "source": [
    "from sklearn.ensemble import RandomForestClassifier\n",
    "from sklearn.metrics import accuracy_score\n",
    "from sklearn.dummy import DummyClassifier\n",
    "from sklearn.model_selection import train_test_split\n",
    "from sklearn.neural_network import MLPClassifier"
   ]
  },
  {
   "cell_type": "code",
   "execution_count": 278,
   "metadata": {},
   "outputs": [],
   "source": [
    "X_train, X_test, y_train, y_test1 = train_test_split(encoded.iloc[0:,0:64], \n",
    "                                                    labs, \n",
    "                                                    test_size = 0.25, \n",
    "                                                    stratify = labs, \n",
    "                                                    random_state = 1)\n",
    "\n",
    "forest_race = RandomForestClassifier(max_depth = 15, n_estimators = 600, n_jobs=-1) \n",
    "forest_race.fit(X_train, y_train)\n",
    "\n",
    "lab_forest_race = forest_race.predict(X_test)"
   ]
  },
  {
   "cell_type": "code",
   "execution_count": 258,
   "metadata": {},
   "outputs": [],
   "source": [
    "X_train, X_test, y_train, y_test2 = train_test_split(encoded.drop(encoded.iloc[0:,11:29], axis = 1), \n",
    "                                                    labs, \n",
    "                                                    test_size = 0.25, \n",
    "                                                    stratify = labs, \n",
    "                                                    random_state = 1)\n",
    "\n",
    "forest_norace = RandomForestClassifier(max_depth = 15, n_estimators = 600, n_jobs=-1) \n",
    "forest_norace.fit(X_train, y_train)\n",
    "\n",
    "lab_forest_norace = forest_norace.predict(X_test)"
   ]
  },
  {
   "cell_type": "code",
   "execution_count": 279,
   "metadata": {},
   "outputs": [],
   "source": [
    "X_train, X_test, y_train, y_test3 = train_test_split(encoded.iloc[0:,0:64], \n",
    "                                                    labs, \n",
    "                                                    test_size = 0.25, \n",
    "                                                    stratify = labs, \n",
    "                                                    random_state = 1)\n",
    "\n",
    "MLP_race = MLPClassifier(max_iter = 300)\n",
    "\n",
    "MLP_race.fit(X_train, y_train)\n",
    "\n",
    "lab_mlp_race = MLP_race.predict(X_test)"
   ]
  },
  {
   "cell_type": "code",
   "execution_count": 261,
   "metadata": {},
   "outputs": [],
   "source": [
    "X_train, X_test, y_train, y_test4 = train_test_split(encoded.drop(encoded.iloc[0:,11:29], axis = 1), \n",
    "                                                    labs, \n",
    "                                                    test_size = 0.25, \n",
    "                                                    stratify = labs, \n",
    "                                                    random_state = 1)\n",
    "MLP_norace = MLPClassifier(max_iter = 300)\n",
    "\n",
    "MLP_norace.fit(X_train, y_train)\n",
    "\n",
    "lab_mlp_norace = MLP_norace.predict(X_test)"
   ]
  },
  {
   "cell_type": "code",
   "execution_count": 164,
   "metadata": {},
   "outputs": [],
   "source": [
    "X_train, X_test, y_train, y_test5 = train_test_split(encoded.iloc[0:,0:66], \n",
    "                                                    labs, \n",
    "                                                    test_size = 0.25, \n",
    "                                                    stratify = labs, \n",
    "                                                    random_state = 1)\n",
    "dummy_race = DummyClassifier(strategy = 'stratified')\n",
    "\n",
    "dummy_race.fit(X_train, y_train)\n",
    "\n",
    "lab_dummy_race = dummy_race.predict(X_test)"
   ]
  },
  {
   "cell_type": "code",
   "execution_count": 165,
   "metadata": {},
   "outputs": [],
   "source": [
    "X_train, X_test, y_train, y_test6 = train_test_split(encoded.drop(encoded.iloc[0:,11:29], axis = 1), \n",
    "                                                    labs, \n",
    "                                                    test_size = 0.25, \n",
    "                                                    stratify = labs, \n",
    "                                                    random_state = 1)\n",
    "dummy_norace = DummyClassifier(strategy = 'stratified')\n",
    "\n",
    "dummy_norace.fit(X_train, y_train)\n",
    "\n",
    "lab_dummy_norace = dummy_norace.predict(X_test)"
   ]
  },
  {
   "cell_type": "code",
   "execution_count": 200,
   "metadata": {},
   "outputs": [
    {
     "name": "stdout",
     "output_type": "stream",
     "text": [
      "0.7382857979229454\n",
      "0.7384188571542623\n",
      "0.738262512557465\n",
      "0.7382857979229454\n",
      "0.566795734121044\n",
      "0.5674510508352794\n"
     ]
    }
   ],
   "source": [
    "# accuracy multilabel\n",
    "\n",
    "print(accuracy_score(y_test1, lab_forest_race))\n",
    "print(accuracy_score(y_test2, lab_forest_norace))\n",
    "print(accuracy_score(y_test3, lab_mlp_race))\n",
    "print(accuracy_score(y_test4, lab_mlp_norace))\n",
    "print(accuracy_score(y_test5, lab_dummy_race))\n",
    "print(accuracy_score(y_test6, lab_dummy_norace))"
   ]
  },
  {
   "cell_type": "code",
   "execution_count": 262,
   "metadata": {},
   "outputs": [
    {
     "name": "stdout",
     "output_type": "stream",
     "text": [
      "0.6268836767121783\n",
      "0.6278721425100597\n",
      "0.626861778078311\n",
      "0.6277481492539289\n",
      "0.543020460142144\n",
      "0.5426467540904402\n"
     ]
    }
   ],
   "source": [
    "# f1 multilabel\n",
    "\n",
    "print(f1_score(y_test1, lab_forest_race, average = 'weighted'))\n",
    "print(f1_score(y_test2, lab_forest_norace, average = 'weighted'))\n",
    "print(f1_score(y_test3, lab_mlp_race, average = 'weighted'))\n",
    "print(f1_score(y_test4, lab_mlp_norace, average = 'weighted'))\n",
    "print(f1_score(y_test5, lab_dummy_race, average = 'weighted'))\n",
    "print(f1_score(y_test6, lab_dummy_norace, average = 'weighted'))"
   ]
  },
  {
   "cell_type": "code",
   "execution_count": 213,
   "metadata": {},
   "outputs": [
    {
     "data": {
      "text/html": [
       "<div>\n",
       "<style scoped>\n",
       "    .dataframe tbody tr th:only-of-type {\n",
       "        vertical-align: middle;\n",
       "    }\n",
       "\n",
       "    .dataframe tbody tr th {\n",
       "        vertical-align: top;\n",
       "    }\n",
       "\n",
       "    .dataframe thead th {\n",
       "        text-align: right;\n",
       "    }\n",
       "</style>\n",
       "<table border=\"1\" class=\"dataframe\">\n",
       "  <thead>\n",
       "    <tr style=\"text-align: right;\">\n",
       "      <th></th>\n",
       "      <th>Random Forrest</th>\n",
       "      <th>MLP</th>\n",
       "      <th>Dummy Classifier</th>\n",
       "    </tr>\n",
       "  </thead>\n",
       "  <tbody>\n",
       "    <tr>\n",
       "      <th>Race Label</th>\n",
       "      <td>0.738286</td>\n",
       "      <td>0.738263</td>\n",
       "      <td>0.566796</td>\n",
       "    </tr>\n",
       "    <tr>\n",
       "      <th>No Race Label</th>\n",
       "      <td>0.738419</td>\n",
       "      <td>0.738286</td>\n",
       "      <td>0.567451</td>\n",
       "    </tr>\n",
       "    <tr>\n",
       "      <th>p-value</th>\n",
       "      <td>0.868181</td>\n",
       "      <td>0.976830</td>\n",
       "      <td>NA</td>\n",
       "    </tr>\n",
       "  </tbody>\n",
       "</table>\n",
       "</div>"
      ],
      "text/plain": [
       "               Random Forrest       MLP Dummy Classifier\n",
       "Race Label           0.738286  0.738263         0.566796\n",
       "No Race Label        0.738419  0.738286         0.567451\n",
       "p-value              0.868181  0.976830               NA"
      ]
     },
     "execution_count": 213,
     "metadata": {},
     "output_type": "execute_result"
    }
   ],
   "source": [
    "results = pd.DataFrame({'Random Forrest':[0.7382857979229454, 0.7384188571542623, 0.8681814601454418],\n",
    "                       'MLP':[0.738262512557465,0.7382857979229454,0.9768297252112965],\n",
    "                        'Dummy Classifier':[0.566795734121044, 0.5674510508352794, 'NA']\n",
    "                       }, \n",
    "                      index = ['Race Label', 'No Race Label', 'p-value'])\n",
    "\n",
    "results"
   ]
  },
  {
   "cell_type": "code",
   "execution_count": 271,
   "metadata": {},
   "outputs": [
    {
     "data": {
      "text/html": [
       "<div>\n",
       "<style scoped>\n",
       "    .dataframe tbody tr th:only-of-type {\n",
       "        vertical-align: middle;\n",
       "    }\n",
       "\n",
       "    .dataframe tbody tr th {\n",
       "        vertical-align: top;\n",
       "    }\n",
       "\n",
       "    .dataframe thead th {\n",
       "        text-align: right;\n",
       "    }\n",
       "</style>\n",
       "<table border=\"1\" class=\"dataframe\">\n",
       "  <thead>\n",
       "    <tr style=\"text-align: right;\">\n",
       "      <th></th>\n",
       "      <th>Random Forrest</th>\n",
       "      <th>MLP</th>\n",
       "      <th>Dummy Classifier</th>\n",
       "    </tr>\n",
       "  </thead>\n",
       "  <tbody>\n",
       "    <tr>\n",
       "      <th>Race Label</th>\n",
       "      <td>0.626884</td>\n",
       "      <td>0.626862</td>\n",
       "      <td>0.543020</td>\n",
       "    </tr>\n",
       "    <tr>\n",
       "      <th>No Race Label</th>\n",
       "      <td>0.627872</td>\n",
       "      <td>0.627748</td>\n",
       "      <td>0.542647</td>\n",
       "    </tr>\n",
       "  </tbody>\n",
       "</table>\n",
       "</div>"
      ],
      "text/plain": [
       "               Random Forrest       MLP  Dummy Classifier\n",
       "Race Label           0.626884  0.626862          0.543020\n",
       "No Race Label        0.627872  0.627748          0.542647"
      ]
     },
     "execution_count": 271,
     "metadata": {},
     "output_type": "execute_result"
    }
   ],
   "source": [
    "results1 = pd.DataFrame({'Random Forrest':[0.6268836767121783, 0.6278721425100597],\n",
    "                       'MLP':[0.626861778078311,0.6277481492539289],\n",
    "                        'Dummy Classifier':[0.543020460142144, 0.5426467540904402]\n",
    "                       }, \n",
    "                      index = ['Race Label', 'No Race Label'])\n",
    "\n",
    "results1"
   ]
  },
  {
   "cell_type": "markdown",
   "metadata": {},
   "source": [
    "#### Calculate p-value using N(0,1) distribution"
   ]
  },
  {
   "cell_type": "code",
   "execution_count": 285,
   "metadata": {},
   "outputs": [
    {
     "name": "stdout",
     "output_type": "stream",
     "text": [
      "Z-score -0.1637521488900692\n",
      "0.4349631313601149 0.5650368686398851\n",
      "prob of value being between -Z and +Z =  0.13007373727977023\n"
     ]
    },
    {
     "data": {
      "text/plain": [
       "0.8699262627202298"
      ]
     },
     "execution_count": 285,
     "metadata": {},
     "output_type": "execute_result"
    }
   ],
   "source": [
    "import math as mm\n",
    "\n",
    "Z = (0.7382857979229454 - 0.7384188571542623)/(0.44551824376427433242719289232805/mm.sqrt(300618))\n",
    "\n",
    "print('Z-score',Z)\n",
    "\n",
    "from scipy.stats import norm\n",
    "\n",
    "up = norm(loc = 0, scale = 1).cdf(-Z)\n",
    "lw = norm(loc = 0, scale = 1).cdf(Z)\n",
    "\n",
    "print(lw,up)\n",
    "prob = up-lw\n",
    "print('prob of value being between -Z and +Z = ', up-lw)\n",
    "\n",
    "1-prob"
   ]
  },
  {
   "cell_type": "markdown",
   "metadata": {},
   "source": [
    "#### Optimise for best parameters"
   ]
  },
  {
   "cell_type": "code",
   "execution_count": null,
   "metadata": {},
   "outputs": [],
   "source": [
    "r = []\n",
    "for depth in [5,10,15,20,25]:\n",
    "    for estimators in [300,900,1200,1800]:\n",
    "        model = RandomForestClassifier(max_depth = depth, n_estimators = estimators, n_jobs = -1)\n",
    "        model.fit(X_train, y_train)\n",
    "        acc = accuracy_score(y_true = y_test, y_pred = model.predict(X_test))\n",
    "        r.append([acc,depth,estimators])"
   ]
  },
  {
   "cell_type": "markdown",
   "metadata": {},
   "source": [
    "print(r)\n",
    "\n",
    "[[0.7382138431728027, 5, 300], [0.7382138431728027, 5, 900], [0.7382138431728027, 5, 1200], [0.7382138431728027, 5, 1800], [0.7382138431728027, 10, 300], [0.7382138431728027, 10, 900], [0.7382138431728027, 10, 1200], [0.7382138431728027, 10, 1800], [0.7383261120859564, 15, 300], [0.7383552188412185, 15, 900], [0.7383427445175348, 15, 1200]]"
   ]
  },
  {
   "cell_type": "markdown",
   "metadata": {},
   "source": [
    "#### Convert to outcome to binary 'lawbreaking' vs 'false alarm'"
   ]
  },
  {
   "cell_type": "code",
   "execution_count": 88,
   "metadata": {},
   "outputs": [
    {
     "data": {
      "text/plain": [
       "A no further action disposal                                    1117660\n",
       "Arrest                                                           194667\n",
       "Community resolution                                              89274\n",
       "Khat or Cannabis warning                                          35220\n",
       "Summons / charged by post                                         26730\n",
       "Penalty Notice for Disorder                                       23449\n",
       "Nothing found - no further action                                 13499\n",
       "Caution (simple or conditional)                                    6240\n",
       "Suspect arrested                                                   3598\n",
       "Offender given drugs possession warning                            1375\n",
       "Local resolution                                                   1035\n",
       "Article found - Detailed outcome unavailable                        613\n",
       "Suspect summonsed to court                                          446\n",
       "Offender given penalty notice                                       251\n",
       "Offender cautioned                                                  161\n",
       "Suspected psychoactive substances seized - No further action          6\n",
       "Name: Outcome, dtype: int64"
      ]
     },
     "execution_count": 88,
     "metadata": {},
     "output_type": "execute_result"
    }
   ],
   "source": [
    "df['Outcome'].value_counts()"
   ]
  },
  {
   "cell_type": "code",
   "execution_count": 97,
   "metadata": {},
   "outputs": [
    {
     "name": "stdout",
     "output_type": "stream",
     "text": [
      "(1488169, 16)\n",
      "(1460396, 16)\n"
     ]
    },
    {
     "data": {
      "text/plain": [
       "(W-B-A           Degree     \n",
       " Asian           Non-serious    119190\n",
       "                 Serious         42133\n",
       " Black           Non-serious    186701\n",
       "                 Serious         66091\n",
       " Other or Mixed  Non-serious    244297\n",
       "                 Serious         63783\n",
       " White           Non-serious    540669\n",
       "                 Serious        197532\n",
       " Name: Degree, dtype: int64,\n",
       " White             738201\n",
       " Other or Mixed    308080\n",
       " Black             252792\n",
       " Asian             161323\n",
       " Name: W-B-A, dtype: int64)"
      ]
     },
     "execution_count": 97,
     "metadata": {},
     "output_type": "execute_result"
    }
   ],
   "source": [
    "df_b = df_1.copy()\n",
    "\n",
    "print(df_b.shape)\n",
    "\n",
    "df_b.dropna(subset = ['Outcome'], inplace = True)\n",
    "\n",
    "print(df_b.shape)\n",
    "\n",
    "df_b['Degree'] = np.where(df_b['Outcome'].isin(['A no further action disposal',\n",
    "                                               'Nothing found - no further action']), 'Non-serious', 'Serious')\n",
    "\n",
    "df_b.groupby('W-B-A')['Degree'].value_counts(), df_b['W-B-A'].value_counts()"
   ]
  },
  {
   "cell_type": "code",
   "execution_count": 263,
   "metadata": {},
   "outputs": [
    {
     "data": {
      "text/html": [
       "<div>\n",
       "<style scoped>\n",
       "    .dataframe tbody tr th:only-of-type {\n",
       "        vertical-align: middle;\n",
       "    }\n",
       "\n",
       "    .dataframe tbody tr th {\n",
       "        vertical-align: top;\n",
       "    }\n",
       "\n",
       "    .dataframe thead th {\n",
       "        text-align: right;\n",
       "    }\n",
       "</style>\n",
       "<table border=\"1\" class=\"dataframe\">\n",
       "  <thead>\n",
       "    <tr style=\"text-align: right;\">\n",
       "      <th></th>\n",
       "      <th>Ethnic Group</th>\n",
       "      <th>Search Outcome</th>\n",
       "      <th>n</th>\n",
       "    </tr>\n",
       "  </thead>\n",
       "  <tbody>\n",
       "    <tr>\n",
       "      <th>0</th>\n",
       "      <td>Asian</td>\n",
       "      <td>False Alarm</td>\n",
       "      <td>119190</td>\n",
       "    </tr>\n",
       "    <tr>\n",
       "      <th>1</th>\n",
       "      <td>Asian</td>\n",
       "      <td>Lawbreaking</td>\n",
       "      <td>42133</td>\n",
       "    </tr>\n",
       "    <tr>\n",
       "      <th>2</th>\n",
       "      <td>Black</td>\n",
       "      <td>False Alarm</td>\n",
       "      <td>186701</td>\n",
       "    </tr>\n",
       "    <tr>\n",
       "      <th>3</th>\n",
       "      <td>Black</td>\n",
       "      <td>Lawbreaking</td>\n",
       "      <td>66091</td>\n",
       "    </tr>\n",
       "    <tr>\n",
       "      <th>4</th>\n",
       "      <td>Other or Mixed</td>\n",
       "      <td>False Alarm</td>\n",
       "      <td>244297</td>\n",
       "    </tr>\n",
       "    <tr>\n",
       "      <th>5</th>\n",
       "      <td>Other or Mixed</td>\n",
       "      <td>Lawbreaking</td>\n",
       "      <td>63783</td>\n",
       "    </tr>\n",
       "    <tr>\n",
       "      <th>6</th>\n",
       "      <td>White</td>\n",
       "      <td>False Alarm</td>\n",
       "      <td>540669</td>\n",
       "    </tr>\n",
       "    <tr>\n",
       "      <th>7</th>\n",
       "      <td>White</td>\n",
       "      <td>Lawbreaking</td>\n",
       "      <td>197532</td>\n",
       "    </tr>\n",
       "  </tbody>\n",
       "</table>\n",
       "</div>"
      ],
      "text/plain": [
       "     Ethnic Group Search Outcome       n\n",
       "0           Asian    False Alarm  119190\n",
       "1           Asian    Lawbreaking   42133\n",
       "2           Black    False Alarm  186701\n",
       "3           Black    Lawbreaking   66091\n",
       "4  Other or Mixed    False Alarm  244297\n",
       "5  Other or Mixed    Lawbreaking   63783\n",
       "6           White    False Alarm  540669\n",
       "7           White    Lawbreaking  197532"
      ]
     },
     "execution_count": 263,
     "metadata": {},
     "output_type": "execute_result"
    }
   ],
   "source": [
    "degree = pd.DataFrame({'Ethnic Group': ['Asian','Asian','Black','Black','Other or Mixed','Other or Mixed','White','White'],\n",
    "             'Search Outcome': ['False Alarm','Lawbreaking','False Alarm','Lawbreaking','False Alarm','Lawbreaking','False Alarm','Lawbreaking'],\n",
    "             'n': [119190, 42133,186701,66091,244297,63783,540669,197532]})\n",
    "degree"
   ]
  },
  {
   "cell_type": "markdown",
   "metadata": {},
   "source": [
    "#### Create and plot disparate impact charts"
   ]
  },
  {
   "cell_type": "code",
   "execution_count": 296,
   "metadata": {},
   "outputs": [
    {
     "data": {
      "text/html": [
       "<div>\n",
       "<style scoped>\n",
       "    .dataframe tbody tr th:only-of-type {\n",
       "        vertical-align: middle;\n",
       "    }\n",
       "\n",
       "    .dataframe tbody tr th {\n",
       "        vertical-align: top;\n",
       "    }\n",
       "\n",
       "    .dataframe thead th {\n",
       "        text-align: right;\n",
       "    }\n",
       "</style>\n",
       "<table border=\"1\" class=\"dataframe\">\n",
       "  <thead>\n",
       "    <tr style=\"text-align: right;\">\n",
       "      <th></th>\n",
       "      <th>Ethnic Group</th>\n",
       "      <th>Total Searches</th>\n",
       "      <th>Population Demographic</th>\n",
       "      <th>Proportion</th>\n",
       "    </tr>\n",
       "  </thead>\n",
       "  <tbody>\n",
       "    <tr>\n",
       "      <th>0</th>\n",
       "      <td>Asian</td>\n",
       "      <td>161323</td>\n",
       "      <td>4373339</td>\n",
       "      <td>0.036888</td>\n",
       "    </tr>\n",
       "    <tr>\n",
       "      <th>1</th>\n",
       "      <td>Black</td>\n",
       "      <td>252792</td>\n",
       "      <td>1904684</td>\n",
       "      <td>0.132721</td>\n",
       "    </tr>\n",
       "    <tr>\n",
       "      <th>2</th>\n",
       "      <td>Other or Mixed</td>\n",
       "      <td>308080</td>\n",
       "      <td>1830603</td>\n",
       "      <td>0.168294</td>\n",
       "    </tr>\n",
       "    <tr>\n",
       "      <th>3</th>\n",
       "      <td>White</td>\n",
       "      <td>738201</td>\n",
       "      <td>55073552</td>\n",
       "      <td>0.013404</td>\n",
       "    </tr>\n",
       "  </tbody>\n",
       "</table>\n",
       "</div>"
      ],
      "text/plain": [
       "     Ethnic Group  Total Searches  Population Demographic  Proportion\n",
       "0           Asian          161323                 4373339    0.036888\n",
       "1           Black          252792                 1904684    0.132721\n",
       "2  Other or Mixed          308080                 1830603    0.168294\n",
       "3           White          738201                55073552    0.013404"
      ]
     },
     "execution_count": 296,
     "metadata": {},
     "output_type": "execute_result"
    }
   ],
   "source": [
    "totals = pd.DataFrame({'Ethnic Group': ['Asian','Black','Other or Mixed','White',],\n",
    "             \n",
    "             'Total Searches': [161323,252792,308080,738201],\n",
    "             'Population Demographic': [4373339,1904684,1830603,55073552]})\n",
    "\n",
    "totals['Proportion'] = totals['Total Searches']/totals['Population Demographic']\n",
    "\n",
    "totals"
   ]
  },
  {
   "cell_type": "code",
   "execution_count": 98,
   "metadata": {},
   "outputs": [
    {
     "data": {
      "text/plain": [
       "(9.901679174353394, 2.7520201211598994)"
      ]
     },
     "execution_count": 98,
     "metadata": {},
     "output_type": "execute_result"
    }
   ],
   "source": [
    "# disparate impact searches_population\n",
    "\n",
    "wh_2 = 738201/55073552\n",
    "bl_2 = 252792/1904684\n",
    "aan_2 = 161323/4373339\n",
    "\n",
    "bl_2/wh_2, aan_2/wh_2"
   ]
  },
  {
   "cell_type": "code",
   "execution_count": 104,
   "metadata": {},
   "outputs": [
    {
     "data": {
      "text/plain": [
       "Text(0.5, 0.98, 'Disparate Impact Test, White Group Priviledged')"
      ]
     },
     "execution_count": 104,
     "metadata": {},
     "output_type": "execute_result"
    },
    {
     "data": {
      "image/png": "[encoded data removed]",
      "text/plain": [
       "<Figure size 432x288 with 1 Axes>"
      ]
     },
     "metadata": {
      "needs_background": "light"
     },
     "output_type": "display_data"
    }
   ],
   "source": [
    "x = np.linspace(0, 5, 300)\n",
    "y1 = x*0 + 1\n",
    "plt.ylim(0,11)\n",
    " \n",
    "plt.plot(x, y1, '-')\n",
    "plt.fill_between(x, 1-0.2, 1+0.25, alpha = 0.1)\n",
    "plt.fill_between(x,1.25,11, color = '#e76f51', alpha = 0.1)\n",
    "plt.bar(1, 9.901679174353394, label= 'Black = 9.9016', color = '#2a9d8f')\n",
    "plt.bar(3, 2.7520201211598994, label = 'Asian = 2.7520', color = '#219ebc')\n",
    "plt.grid(True, alpha = 0.25)\n",
    "\n",
    "plt.text(4,1.1,'Fair')\n",
    "plt.text(4, 4, 'Biased', color = '#e76f51')\n",
    "\n",
    "plt.legend()\n",
    "\n",
    "plt.title('Searches by Ethnicity as Share of Total Population',fontsize = 12)\n",
    "plt.suptitle('Disparate Impact Test, White Group Priviledged',fontsize = 12)"
   ]
  },
  {
   "cell_type": "code",
   "execution_count": 249,
   "metadata": {},
   "outputs": [
    {
     "data": {
      "text/plain": [
       "(0.26758565756480956,\n",
       " 0.2614441912718757,\n",
       " 0.26117168661629153,\n",
       " 'white-black',\n",
       " 0.9770485968910856,\n",
       " -0.006141466292933884,\n",
       " 'white-asian',\n",
       " 0.9760302139999243,\n",
       " -0.006413970948518033)"
      ]
     },
     "execution_count": 249,
     "metadata": {},
     "output_type": "execute_result"
    }
   ],
   "source": [
    "# disparate impact finds_data set\n",
    "\n",
    "wh = 197532/738201\n",
    "bl = 66091/252792\n",
    "aan = 42133/161323\n",
    "\n",
    "wh,bl, aan,'white-black', bl/wh, bl-wh, 'white-asian', aan/wh, aan-wh"
   ]
  },
  {
   "cell_type": "code",
   "execution_count": 109,
   "metadata": {},
   "outputs": [
    {
     "data": {
      "text/plain": [
       "Text(0.5, 0.98, 'Disparate Impact Test, White Group Priviledged')"
      ]
     },
     "execution_count": 109,
     "metadata": {},
     "output_type": "execute_result"
    },
    {
     "data": {
      "image/png": "[encoded data removed]",
      "text/plain": [
       "<Figure size 432x288 with 1 Axes>"
      ]
     },
     "metadata": {
      "needs_background": "light"
     },
     "output_type": "display_data"
    }
   ],
   "source": [
    "x = np.linspace(0, 5, 300)\n",
    "y1 = x*0 + 1\n",
    "plt.ylim(0,1.5)\n",
    " \n",
    "plt.plot(x, y1, '-')\n",
    "plt.fill_between(x, 1-0.2, 1+0.25, alpha = 0.1)\n",
    "plt.bar(1, 0.9770485968910856, label= 'Black = 0.977', color = '#2a9d8f')\n",
    "plt.bar(3, 0.9760302139999243, label = 'Asian = 0.976', color = '#219ebc')\n",
    "plt.grid(True, alpha = 0.25)\n",
    "\n",
    "plt.text(4,1.01,'Fair')\n",
    "plt.text(4, 0.2, 'Biased')\n",
    "\n",
    "plt.legend()\n",
    "\n",
    "plt.title('Serious Offences by Ethnicity as Share of Data Set',fontsize = 12)\n",
    "plt.suptitle('Disparate Impact Test, White Group Priviledged',fontsize = 12)"
   ]
  },
  {
   "cell_type": "code",
   "execution_count": 312,
   "metadata": {},
   "outputs": [
    {
     "data": {
      "text/plain": [
       "(0.003586694390076747,\n",
       " 0.034699194197042656,\n",
       " 0.009634057638797267,\n",
       " 'white-black',\n",
       " 9.674421744167663,\n",
       " 0.03111249980696591,\n",
       " 'white-asian',\n",
       " 2.6860547877877936,\n",
       " 0.00604736324872052)"
      ]
     },
     "execution_count": 312,
     "metadata": {},
     "output_type": "execute_result"
    }
   ],
   "source": [
    "# disparate impact finds_population\n",
    "\n",
    "wh = 197532/55073552\n",
    "bl = 66091/1904684\n",
    "aan = 42133/4373339\n",
    "\n",
    "wh,bl, aan,'white-black', bl/wh, bl-wh, 'white-asian', aan/wh, aan-wh"
   ]
  },
  {
   "cell_type": "code",
   "execution_count": 110,
   "metadata": {
    "scrolled": true
   },
   "outputs": [
    {
     "data": {
      "text/plain": [
       "Text(0.5, 0.98, 'Disparate Impact Test, White Group Priviledged')"
      ]
     },
     "execution_count": 110,
     "metadata": {},
     "output_type": "execute_result"
    },
    {
     "data": {
      "image/png": "[encoded data removed]",
      "text/plain": [
       "<Figure size 432x288 with 1 Axes>"
      ]
     },
     "metadata": {
      "needs_background": "light"
     },
     "output_type": "display_data"
    }
   ],
   "source": [
    "x = np.linspace(0, 5, 300)\n",
    "y1 = x*0 + 1\n",
    "plt.ylim(0,10)\n",
    " \n",
    "plt.plot(x, y1, '-')\n",
    "plt.fill_between(x, 1-0.2, 1+0.25, alpha = 0.1)\n",
    "plt.fill_between(x,1.25,10, color = '#e76f51', alpha = 0.1)\n",
    "plt.bar(1, 9.674421744167663, label= 'Black = 9.674', color = '#2a9d8f')\n",
    "plt.bar(3, 2.6860547877877936, label = 'Asian = 2.686', color = '#219ebc')\n",
    "plt.grid(True, alpha = 0.25)\n",
    "\n",
    "plt.text(4,1.1,'Fair')\n",
    "plt.text(4, 4, 'Biased', color = '#e76f51')\n",
    "\n",
    "plt.legend()\n",
    "\n",
    "plt.title('Serious Offences by Ethnicity as Share as Population',fontsize = 12)\n",
    "plt.suptitle('Disparate Impact Test, White Group Priviledged',fontsize = 12)"
   ]
  },
  {
   "cell_type": "code",
   "execution_count": 135,
   "metadata": {},
   "outputs": [
    {
     "data": {
      "text/plain": [
       "Text(0.5, 1.0, 'Search Ratio Equity Impact on Spotted Lawbreaking')"
      ]
     },
     "execution_count": 135,
     "metadata": {},
     "output_type": "execute_result"
    },
    {
     "data": {
      "image/png": "[encoded data removed]",
      "text/plain": [
       "<Figure size 576x360 with 1 Axes>"
      ]
     },
     "metadata": {
      "needs_background": "light"
     },
     "output_type": "display_data"
    }
   ],
   "source": [
    "plt.figure(figsize=(8,5))\n",
    "plt.xlim(0,5)\n",
    "plt.ylim(0,15)\n",
    "plt.grid(True, alpha = 0.25)\n",
    "\n",
    "plt.bar(1,12, width = 1.25, label = 'Privileged Group', edgecolor = '#000000', color = '#f2f2f2')\n",
    "plt.bar(1,4, width = 1.25,color = '#2A9D8F', edgecolor = '#000000')\n",
    "plt.bar(1,2, width = 1.25,color = '#219ebc', edgecolor = '#000000')\n",
    "\n",
    "plt.bar(3,9, width = 1.25,label = 'Unprivileged Group', edgecolor = '#000000', color = '#d9d9d9')\n",
    "plt.bar(3,7, width = 1.25,label = 'Searches', facecolor = '#2A9D8F', edgecolor = '#000000')\n",
    "plt.bar(3,3.5,width = 1.25, label = 'Lawbreaking', color = '#219ebc', edgecolor = '#000000')\n",
    "\n",
    "x = np.linspace(2, 4, 300)\n",
    "y1 = x*0 + 3.5\n",
    "y2 = x*0 + 1\n",
    "\n",
    "plt.plot(x, y1, '--', label = 'α')\n",
    "plt.plot(x, y2, '--', label = \"α'\")\n",
    "\n",
    "plt.legend()\n",
    "\n",
    "plt.fill_between(x, 1, 3.5, alpha = 0.1)\n",
    "plt.text(4, 1, \"missed cases\", color = '#e76f51')\n",
    "\n",
    "plt.title('Search Ratio Equity Impact on Spotted Lawbreaking', fontsize = 12)"
   ]
  }
 ],
 "metadata": {
  "kernelspec": {
   "display_name": "Python 3",
   "language": "python",
   "name": "python3"
  },
  "language_info": {
   "codemirror_mode": {
    "name": "ipython",
    "version": 3
   },
   "file_extension": ".py",
   "mimetype": "text/x-python",
   "name": "python",
   "nbconvert_exporter": "python",
   "pygments_lexer": "ipython3",
   "version": "3.8.5"
  }
 },
 "nbformat": 4,
 "nbformat_minor": 5
}
